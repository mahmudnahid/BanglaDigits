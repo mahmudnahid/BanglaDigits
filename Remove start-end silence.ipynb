{
 "cells": [
  {
   "cell_type": "code",
   "execution_count": 1,
   "metadata": {
    "collapsed": true
   },
   "outputs": [],
   "source": [
    "import os\n",
    "import glob\n",
    "import numpy as np\n",
    "from pydub import AudioSegment"
   ]
  },
  {
   "cell_type": "code",
   "execution_count": 2,
   "metadata": {
    "collapsed": true
   },
   "outputs": [],
   "source": [
    "def detect_leading_silence(sound, silence_threshold=-20.0, chunk_size=10):\n",
    "    '''\n",
    "    sound is a pydub.AudioSegment\n",
    "    silence_threshold in dB\n",
    "    chunk_size in ms\n",
    "\n",
    "    iterate over chunks until you find the first one with sound\n",
    "    '''\n",
    "    trim_ms = 0 # ms\n",
    "    sig_len = len(sound)\n",
    "    while sound[trim_ms:trim_ms+chunk_size].dBFS < silence_threshold:\n",
    "        trim_ms += chunk_size\n",
    "        if trim_ms > sig_len:\n",
    "            trim_ms = 0\n",
    "            break\n",
    "    return trim_ms"
   ]
  },
  {
   "cell_type": "code",
   "execution_count": 24,
   "metadata": {
    "collapsed": true
   },
   "outputs": [],
   "source": [
    "def trim_sound(sound):\n",
    "    duration = len(sound)\n",
    "    start_trim = detect_leading_silence(sound)\n",
    "    end_trim = duration - detect_leading_silence(sound.reverse())\n",
    "\n",
    "    trimmed_sound = sound[start_trim:end_trim]\n",
    "    if len(trimmed_sound) < 300:\n",
    "        start_trim -= 200\n",
    "        start_trim = max(start_trim, 0)\n",
    "        end_trim += 200\n",
    "        trimmed_sound = sound[start_trim:end_trim]\n",
    "    return trimmed_sound"
   ]
  },
  {
   "cell_type": "code",
   "execution_count": 25,
   "metadata": {
    "collapsed": true
   },
   "outputs": [],
   "source": [
    "folders = ['zero','one','two','three','four','five','six','seven','eight','nine']\n",
    "#folders = ['zero']"
   ]
  },
  {
   "cell_type": "code",
   "execution_count": 28,
   "metadata": {
    "collapsed": false
   },
   "outputs": [],
   "source": [
    "def strim_data():\n",
    "    for folder in folders:\n",
    "        src_path = path = '../Data/data_processed_part2/' + folder + '/*'\n",
    "        print src_path\n",
    "        for wave_file in glob.glob(src_path):\n",
    "            file_name = os.path.basename(wave_file)\n",
    "            print file_name\n",
    "            dest_path = '../Data/data_processed_part2_trimmed/' + folder + '/' + file_name\n",
    "            try:\n",
    "                sound = AudioSegment.from_file(wave_file, format='wav')\n",
    "            except:\n",
    "                pass\n",
    "            trimmed_sound = trim_sound(sound)\n",
    "            trimmed_sound.export(dest_path, format = 'wav')"
   ]
  },
  {
   "cell_type": "code",
   "execution_count": null,
   "metadata": {
    "collapsed": true
   },
   "outputs": [],
   "source": [
    "strim_data()"
   ]
  }
 ],
 "metadata": {
  "kernelspec": {
   "display_name": "Python 2",
   "language": "python",
   "name": "python2"
  },
  "language_info": {
   "codemirror_mode": {
    "name": "ipython",
    "version": 2
   },
   "file_extension": ".py",
   "mimetype": "text/x-python",
   "name": "python",
   "nbconvert_exporter": "python",
   "pygments_lexer": "ipython2",
   "version": "2.7.11"
  }
 },
 "nbformat": 4,
 "nbformat_minor": 0
}
